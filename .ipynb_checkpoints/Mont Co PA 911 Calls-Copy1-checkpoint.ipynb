{
 "cells": [
  {
   "cell_type": "code",
   "execution_count": 1,
   "metadata": {
    "collapsed": true
   },
   "outputs": [],
   "source": [
    "import numpy as np\n",
    "import pandas as pd\n",
    "import sqlite3"
   ]
  },
  {
   "cell_type": "code",
   "execution_count": 2,
   "metadata": {
    "collapsed": true
   },
   "outputs": [],
   "source": [
    "import matplotlib.pyplot as plt\n",
    "import seaborn as sns\n",
    "sns.set_style('whitegrid')\n",
    "%matplotlib inline"
   ]
  },
  {
   "cell_type": "code",
   "execution_count": 3,
   "metadata": {
    "collapsed": true
   },
   "outputs": [],
   "source": [
    "df = pd.read_csv('911.csv')"
   ]
  },
  {
   "cell_type": "code",
   "execution_count": 4,
   "metadata": {},
   "outputs": [
    {
     "name": "stdout",
     "output_type": "stream",
     "text": [
      "<class 'pandas.core.frame.DataFrame'>\n",
      "RangeIndex: 326425 entries, 0 to 326424\n",
      "Data columns (total 9 columns):\n",
      "lat          326425 non-null float64\n",
      "lng          326425 non-null float64\n",
      "desc         326425 non-null object\n",
      "zip          286835 non-null float64\n",
      "title        326425 non-null object\n",
      "timeStamp    326425 non-null object\n",
      "twp          326310 non-null object\n",
      "addr         326425 non-null object\n",
      "e            326425 non-null int64\n",
      "dtypes: float64(3), int64(1), object(5)\n",
      "memory usage: 22.4+ MB\n"
     ]
    }
   ],
   "source": [
    "df.info()"
   ]
  },
  {
   "cell_type": "code",
   "execution_count": 5,
   "metadata": {},
   "outputs": [
    {
     "data": {
      "text/plain": [
       "LOWER MERION         28073\n",
       "ABINGTON             20206\n",
       "NORRISTOWN           18433\n",
       "UPPER MERION         17276\n",
       "CHELTENHAM           15026\n",
       "POTTSTOWN            13503\n",
       "UPPER MORELAND       11256\n",
       "LOWER PROVIDENCE     10791\n",
       "PLYMOUTH              9749\n",
       "HORSHAM               9215\n",
       "UPPER DUBLIN          9049\n",
       "MONTGOMERY            8826\n",
       "WHITEMARSH            8520\n",
       "UPPER PROVIDENCE      7939\n",
       "SPRINGFIELD           7460\n",
       "LIMERICK              7209\n",
       "WHITPAIN              6720\n",
       "EAST NORRITON         6648\n",
       "LANSDALE              5776\n",
       "HATFIELD TOWNSHIP     5753\n",
       "TOWAMENCIN            5557\n",
       "LOWER GWYNEDD         5455\n",
       "LOWER POTTSGROVE      5370\n",
       "WEST NORRITON         5365\n",
       "LOWER MORELAND        5330\n",
       "FRANCONIA             4499\n",
       "LOWER SALFORD         4456\n",
       "UPPER GWYNEDD         4409\n",
       "CHESTER COUNTY        3543\n",
       "WORCESTER             2936\n",
       "                     ...  \n",
       "UPPER HANOVER         1883\n",
       "ROYERSFORD            1799\n",
       "BRIDGEPORT            1745\n",
       "UPPER POTTSGROVE      1681\n",
       "PERKIOMEN             1585\n",
       "TELFORD               1579\n",
       "WEST POTTSGROVE       1554\n",
       "COLLEGEVILLE          1510\n",
       "SOUDERTON             1478\n",
       "PENNSBURG             1345\n",
       "BUCKS COUNTY          1173\n",
       "UPPER FREDERICK       1168\n",
       "NORTH WALES           1084\n",
       "RED HILL              1039\n",
       "MARLBOROUGH           1010\n",
       "LOWER FREDERICK        979\n",
       "UPPER SALFORD          957\n",
       "TRAPPE                 907\n",
       "NARBERTH               903\n",
       "BERKS COUNTY           880\n",
       "DELAWARE COUNTY        871\n",
       "ROCKLEDGE              775\n",
       "SCHWENKSVILLE          736\n",
       "EAST GREENVILLE        685\n",
       "HATFIELD BORO          673\n",
       "BRYN ATHYN             629\n",
       "SALFORD                576\n",
       "GREEN LANE             216\n",
       "PHILA COUNTY           124\n",
       "LEHIGH COUNTY           73\n",
       "Name: twp, Length: 68, dtype: int64"
      ]
     },
     "execution_count": 5,
     "metadata": {},
     "output_type": "execute_result"
    }
   ],
   "source": [
    "df['twp'].value_counts(sort=True)"
   ]
  },
  {
   "cell_type": "code",
   "execution_count": 6,
   "metadata": {
    "collapsed": true
   },
   "outputs": [],
   "source": [
    "#use lambda expression to create reasons column for db"
   ]
  },
  {
   "cell_type": "code",
   "execution_count": 7,
   "metadata": {
    "collapsed": true
   },
   "outputs": [],
   "source": [
    "df['Reason'] = df['title'].apply(lambda title: title.split(':')[0])"
   ]
  },
  {
   "cell_type": "code",
   "execution_count": 8,
   "metadata": {},
   "outputs": [
    {
     "data": {
      "text/plain": [
       "EMS        161441\n",
       "Traffic    116065\n",
       "Fire        48919\n",
       "Name: Reason, dtype: int64"
      ]
     },
     "execution_count": 8,
     "metadata": {},
     "output_type": "execute_result"
    }
   ],
   "source": [
    "df['Reason'].value_counts()"
   ]
  },
  {
   "cell_type": "code",
   "execution_count": 9,
   "metadata": {
    "collapsed": true
   },
   "outputs": [],
   "source": [
    "conn = sqlite3.connect('911.db')"
   ]
  },
  {
   "cell_type": "code",
   "execution_count": 10,
   "metadata": {},
   "outputs": [
    {
     "name": "stderr",
     "output_type": "stream",
     "text": [
      "ERROR:root:An unexpected error occurred while tokenizing input\n",
      "The following traceback may be corrupted or invalid\n",
      "The error message is: ('EOF in multi-line string', (1, 36))\n",
      "\n"
     ]
    },
    {
     "ename": "OperationalError",
     "evalue": "table calls_final2 already exists",
     "output_type": "error",
     "traceback": [
      "\u001b[0;31m---------------------------------------------------------------------------\u001b[0m",
      "\u001b[0;31mOperationalError\u001b[0m                          Traceback (most recent call last)",
      "\u001b[0;32m<ipython-input-10-255899837434>\u001b[0m in \u001b[0;36m<module>\u001b[0;34m()\u001b[0m\n\u001b[1;32m      2\u001b[0m \u001b[0;31m#Create Table\u001b[0m\u001b[0;34m\u001b[0m\u001b[0;34m\u001b[0m\u001b[0m\n\u001b[1;32m      3\u001b[0m c.execute('''CREATE TABLE calls_final2\n\u001b[0;32m----> 4\u001b[0;31m              (reason text, qty real)''')\n\u001b[0m\u001b[1;32m      5\u001b[0m \u001b[0mc\u001b[0m\u001b[0;34m.\u001b[0m\u001b[0mexecute\u001b[0m\u001b[0;34m(\u001b[0m\u001b[0;34m\"INSERT INTO calls_final2 VALUES ('EMS', 161441)\"\u001b[0m\u001b[0;34m)\u001b[0m\u001b[0;34m\u001b[0m\u001b[0m\n\u001b[1;32m      6\u001b[0m \u001b[0mconn\u001b[0m\u001b[0;34m.\u001b[0m\u001b[0mcommit\u001b[0m\u001b[0;34m(\u001b[0m\u001b[0;34m)\u001b[0m\u001b[0;34m\u001b[0m\u001b[0m\n",
      "\u001b[0;31mOperationalError\u001b[0m: table calls_final2 already exists"
     ]
    }
   ],
   "source": [
    "c = conn.cursor()\n",
    "#Create Table \n",
    "c.execute('''CREATE TABLE calls_final2\n",
    "             (reason text, qty real)''')\n",
    "c.execute(\"INSERT INTO calls_final2 VALUES ('EMS', 161441)\")\n",
    "conn.commit()\n",
    "conn.close()"
   ]
  },
  {
   "cell_type": "code",
   "execution_count": 11,
   "metadata": {},
   "outputs": [
    {
     "data": {
      "text/plain": [
       "[]"
      ]
     },
     "execution_count": 11,
     "metadata": {},
     "output_type": "execute_result"
    }
   ],
   "source": [
    "conn = sqlite3.connect('911.db')\n",
    "c = conn.cursor()\n",
    "c. fetchall()"
   ]
  },
  {
   "cell_type": "code",
   "execution_count": 12,
   "metadata": {},
   "outputs": [
    {
     "data": {
      "text/plain": [
       "<sqlite3.Cursor at 0x1a1e226ea0>"
      ]
     },
     "execution_count": 12,
     "metadata": {},
     "output_type": "execute_result"
    }
   ],
   "source": [
    "allReasons = [('Traffic', 116065),\n",
    "              ('Fire', 48919),]\n",
    "c.executemany('INSERT INTO calls_final2 VALUES (?,?)', allReasons)"
   ]
  },
  {
   "cell_type": "code",
   "execution_count": 13,
   "metadata": {},
   "outputs": [
    {
     "name": "stdout",
     "output_type": "stream",
     "text": [
      "('EMS', 161441.0)\n",
      "('Traffic', 116065.0)\n",
      "('Fire', 48919.0)\n"
     ]
    }
   ],
   "source": [
    "for row in c.execute('SELECT * FROM calls_final2'):\n",
    "        print(row)"
   ]
  },
  {
   "cell_type": "code",
   "execution_count": 14,
   "metadata": {},
   "outputs": [
    {
     "data": {
      "text/plain": [
       "<matplotlib.axes._subplots.AxesSubplot at 0x11b7152b0>"
      ]
     },
     "execution_count": 14,
     "metadata": {},
     "output_type": "execute_result"
    },
    {
     "data": {
      "image/png": "[encoded data removed]",
      "text/plain": [
       "<matplotlib.figure.Figure at 0x11af9ffd0>"
      ]
     },
     "metadata": {},
     "output_type": "display_data"
    }
   ],
   "source": [
    "sns.countplot(x='Reason',data=df,palette='viridis')"
   ]
  },
  {
   "cell_type": "code",
   "execution_count": null,
   "metadata": {
    "collapsed": true
   },
   "outputs": [],
   "source": []
  }
 ],
 "metadata": {
  "kernelspec": {
   "display_name": "Python 3",
   "language": "python",
   "name": "python3"
  },
  "language_info": {
   "codemirror_mode": {
    "name": "ipython",
    "version": 3
   },
   "file_extension": ".py",
   "mimetype": "text/x-python",
   "name": "python",
   "nbconvert_exporter": "python",
   "pygments_lexer": "ipython3",
   "version": "3.6.3"
  }
 },
 "nbformat": 4,
 "nbformat_minor": 2
}
